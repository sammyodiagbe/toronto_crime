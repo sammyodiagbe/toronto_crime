{
 "cells": [
  {
   "cell_type": "code",
   "execution_count": 9,
   "id": "64d377d2",
   "metadata": {},
   "outputs": [
    {
     "name": "stdout",
     "output_type": "stream",
     "text": [
      "Our deepest fear is not that we are inadequate, our deepest fear is that we are powerful beyond measure, we ask ourselves, who am i to be beautiful, talented and gorgeous, actually who are you not to be.\n"
     ]
    }
   ],
   "source": [
    "with open(\"example.txt\", \"r\") as file:\n",
    "    content = file.read()\n",
    "    print(content)"
   ]
  },
  {
   "cell_type": "markdown",
   "id": "32e45196",
   "metadata": {},
   "source": [
    "# Exceptions and Error Handling"
   ]
  },
  {
   "cell_type": "code",
   "execution_count": 8,
   "id": "eecba67a",
   "metadata": {},
   "outputs": [
    {
     "name": "stdout",
     "output_type": "stream",
     "text": [
      "Directory already exist, please try a different approach\n"
     ]
    }
   ],
   "source": [
    "import os\n",
    "\n",
    "try:\n",
    "    new_directory = os.mkdir(\"making_dirs\")\n",
    "    print(new_directory)\n",
    "    another_nested_directory = os.mkdir(\"./making_dirs/another_dir\")\n",
    "    print(another_nested_directory)\n",
    "except FileExistsError as error:\n",
    "    print('Directory already exist, please try a different approach')"
   ]
  },
  {
   "cell_type": "markdown",
   "id": "3e478df9",
   "metadata": {},
   "source": [
    "## Classes and Objects"
   ]
  },
  {
   "cell_type": "code",
   "execution_count": 10,
   "id": "e51644f8",
   "metadata": {},
   "outputs": [
    {
     "name": "stdout",
     "output_type": "stream",
     "text": [
      "car drivews with 4 sits.\n"
     ]
    }
   ],
   "source": [
    "class Car:\n",
    "    def __init__(self, engine_type, sits = 4):\n",
    "        self.engine_type = engine_type\n",
    "        self.sits = sits\n",
    "        pass\n",
    "\n",
    "    def drive(self):\n",
    "        print(f\"car drivews with {self.sits} sits.\")\n",
    "\n",
    "audi = Car('Automatic')\n",
    "audi.drive()"
   ]
  },
  {
   "cell_type": "markdown",
   "id": "f6203859",
   "metadata": {},
   "source": [
    "# Inheritance in python"
   ]
  },
  {
   "cell_type": "code",
   "execution_count": null,
   "id": "73495fa2",
   "metadata": {},
   "outputs": [],
   "source": [
    "class Car:\n",
    "    def __init__(self, windows, sits, engine_type):\n",
    "        self.windows = windows\n",
    "        self.sits = sits\n",
    "        self.engine_type = engine_type\n",
    "\n",
    "    def drive():\n",
    "        print(f\"Car is driving on a {self.engine_type}\")\n",
    "class Tesla(Car):\n",
    "    def __init__(self, windows, sits, engine_type, is_electric = False):\n",
    "        super().__init__(windows, sits, engine_type)\n",
    "        self.is_electric = is_electric"
   ]
  }
 ],
 "metadata": {
  "kernelspec": {
   "display_name": ".venv",
   "language": "python",
   "name": "python3"
  },
  "language_info": {
   "codemirror_mode": {
    "name": "ipython",
    "version": 3
   },
   "file_extension": ".py",
   "mimetype": "text/x-python",
   "name": "python",
   "nbconvert_exporter": "python",
   "pygments_lexer": "ipython3",
   "version": "3.9.6"
  }
 },
 "nbformat": 4,
 "nbformat_minor": 5
}
