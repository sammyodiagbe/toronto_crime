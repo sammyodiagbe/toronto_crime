{
 "cells": [
  {
   "cell_type": "code",
   "execution_count": 9,
   "id": "64d377d2",
   "metadata": {},
   "outputs": [
    {
     "name": "stdout",
     "output_type": "stream",
     "text": [
      "Our deepest fear is not that we are inadequate, our deepest fear is that we are powerful beyond measure, we ask ourselves, who am i to be beautiful, talented and gorgeous, actually who are you not to be.\n"
     ]
    }
   ],
   "source": [
    "with open(\"example.txt\", \"r\") as file:\n",
    "    content = file.read()\n",
    "    print(content)"
   ]
  },
  {
   "cell_type": "markdown",
   "id": "32e45196",
   "metadata": {},
   "source": [
    "# Exceptions and Error Handling"
   ]
  },
  {
   "cell_type": "code",
   "execution_count": 8,
   "id": "eecba67a",
   "metadata": {},
   "outputs": [
    {
     "name": "stdout",
     "output_type": "stream",
     "text": [
      "Directory already exist, please try a different approach\n"
     ]
    }
   ],
   "source": [
    "import os\n",
    "\n",
    "try:\n",
    "    new_directory = os.mkdir(\"making_dirs\")\n",
    "    print(new_directory)\n",
    "    another_nested_directory = os.mkdir(\"./making_dirs/another_dir\")\n",
    "    print(another_nested_directory)\n",
    "except FileExistsError as error:\n",
    "    print('Directory already exist, please try a different approach')"
   ]
  },
  {
   "cell_type": "markdown",
   "id": "3e478df9",
   "metadata": {},
   "source": [
    "## Classes and Objects"
   ]
  },
  {
   "cell_type": "code",
   "execution_count": 10,
   "id": "e51644f8",
   "metadata": {},
   "outputs": [
    {
     "name": "stdout",
     "output_type": "stream",
     "text": [
      "car drivews with 4 sits.\n"
     ]
    }
   ],
   "source": [
    "class Car:\n",
    "    def __init__(self, engine_type, sits = 4):\n",
    "        self.engine_type = engine_type\n",
    "        self.sits = sits\n",
    "        pass\n",
    "\n",
    "    def drive(self):\n",
    "        print(f\"car drivews with {self.sits} sits.\")\n",
    "\n",
    "audi = Car('Automatic')\n",
    "audi.drive()"
   ]
  },
  {
   "cell_type": "markdown",
   "id": "f6203859",
   "metadata": {},
   "source": [
    "# Inheritance in python"
   ]
  },
  {
   "cell_type": "markdown",
   "id": "74b5f968",
   "metadata": {},
   "source": [
    "Inheritance allows objects to inherit attributes and methods from their parent classes"
   ]
  },
  {
   "cell_type": "markdown",
   "id": "0d742763",
   "metadata": {},
   "source": []
  },
  {
   "cell_type": "code",
   "execution_count": 12,
   "id": "73495fa2",
   "metadata": {},
   "outputs": [],
   "source": [
    "class Car:\n",
    "    def __init__(self, windows, sits, engine_type):\n",
    "        self.windows = windows\n",
    "        self.sits = sits\n",
    "        self.engine_type = engine_type\n",
    "\n",
    "    def drive(self):\n",
    "        print(f\"Car is driving on a {self.engine_type}\")\n",
    "class Tesla(Car):\n",
    "    def __init__(self, windows, sits, engine_type, is_electric = False):\n",
    "        super().__init__(windows, sits, engine_type)\n",
    "        self.is_electric = is_electric"
   ]
  },
  {
   "cell_type": "markdown",
   "id": "99e96999",
   "metadata": {},
   "source": [
    "# Polymorphism in python"
   ]
  },
  {
   "cell_type": "markdown",
   "id": "5ffed27f",
   "metadata": {},
   "source": [
    "# Encapsulation in python\n"
   ]
  },
  {
   "cell_type": "code",
   "execution_count": 15,
   "id": "240fa0b6",
   "metadata": {},
   "outputs": [
    {
     "name": "stdout",
     "output_type": "stream",
     "text": [
      "True\n",
      "False\n"
     ]
    }
   ],
   "source": [
    "class Animal:\n",
    "    def __init__(self, canivore = False):\n",
    "        self.canivore = canivore\n",
    "        pass\n",
    "\n",
    "class Dog(Animal):\n",
    "    def __init__(self):\n",
    "        Animal.__init__(self, True)\n",
    "        self.__loves_bone = True\n",
    "    \n",
    "    def get_bone_love_status(self):\n",
    "        return self.__loves_bone\n",
    "    \n",
    "    def set_bone_love_status(self, loves_bone:bool):\n",
    "        self.__loves_bone = loves_bone\n",
    "    \n",
    "casper = Dog()\n",
    "\n",
    "print(casper.get_bone_love_status())\n",
    "casper.set_bone_love_status(False)\n",
    "print(casper.get_bone_love_status())"
   ]
  },
  {
   "cell_type": "markdown",
   "id": "c2a16399",
   "metadata": {},
   "source": [
    "# Abstraction"
   ]
  },
  {
   "cell_type": "markdown",
   "id": "08879269",
   "metadata": {},
   "source": [
    "Abstraction is basically just a way to give structure to your objects, and a way to hide important part of it functionality from public\n"
   ]
  },
  {
   "cell_type": "code",
   "execution_count": 18,
   "id": "2b0e4c24",
   "metadata": {},
   "outputs": [],
   "source": [
    "from abc import ABC, abstractmethod\n",
    "\n",
    "class Animal(ABC):\n",
    "    def __init__(self, canivore = False):\n",
    "        self.canivore = canivore\n",
    "\n",
    "    \n",
    "    @abstractmethod\n",
    "    def speak(self, word):\n",
    "        pass\n",
    "\n",
    "class Dog(Animal):\n",
    "    def __init(self, canivore = True):\n",
    "        Animal.__init__(self, canivore)\n",
    "    \n",
    "    def speak(self, word):\n",
    "        pass\n",
    "julien = Dog()"
   ]
  }
 ],
 "metadata": {
  "kernelspec": {
   "display_name": ".venv",
   "language": "python",
   "name": "python3"
  },
  "language_info": {
   "codemirror_mode": {
    "name": "ipython",
    "version": 3
   },
   "file_extension": ".py",
   "mimetype": "text/x-python",
   "name": "python",
   "nbconvert_exporter": "python",
   "pygments_lexer": "ipython3",
   "version": "3.9.6"
  }
 },
 "nbformat": 4,
 "nbformat_minor": 5
}
