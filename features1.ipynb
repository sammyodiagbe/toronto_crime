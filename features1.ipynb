{
 "cells": [
  {
   "cell_type": "markdown",
   "id": "ec332a9d",
   "metadata": {},
   "source": [
    "# Feature Engineering with Toronto Crime Data"
   ]
  },
  {
   "cell_type": "markdown",
   "id": "a33c6a76",
   "metadata": {},
   "source": [
    "Learning to understand how to encode data for machine using numerical encoding and one hot encoding\n"
   ]
  },
  {
   "cell_type": "code",
   "execution_count": 4,
   "id": "d16b25ab",
   "metadata": {},
   "outputs": [
    {
     "name": "stdout",
     "output_type": "stream",
     "text": [
      "   OBJECTID EVENT_UNIQUE_ID          REPORT_DATE             OCC_DATE  \\\n",
      "0         1  GO-20141637937  1/1/2014 5:00:00 AM  3/1/2012 5:00:00 AM   \n",
      "1         2  GO-20141260793  1/1/2014 5:00:00 AM  1/1/2014 5:00:00 AM   \n",
      "2         3  GO-20141259834  1/1/2014 5:00:00 AM  1/1/2014 5:00:00 AM   \n",
      "3         4  GO-20141260264  1/1/2014 5:00:00 AM  1/1/2014 5:00:00 AM   \n",
      "4         5  GO-20141260264  1/1/2014 5:00:00 AM  1/1/2014 5:00:00 AM   \n",
      "\n",
      "   REPORT_YEAR REPORT_MONTH  REPORT_DAY  REPORT_DOY  REPORT_DOW  REPORT_HOUR  \\\n",
      "0         2014      January           1           1  Wednesday            16   \n",
      "1         2014      January           1           1  Wednesday             3   \n",
      "2         2014      January           1           1  Wednesday             0   \n",
      "3         2014      January           1           1  Wednesday             1   \n",
      "4         2014      January           1           1  Wednesday             1   \n",
      "\n",
      "   ...              OFFENCE MCI_CATEGORY  HOOD_158          NEIGHBOURHOOD_158  \\\n",
      "0  ...  Assault Bodily Harm      Assault       120  Clairlea-Birchmount (120)   \n",
      "1  ...   Aggravated Assault      Assault       081     Trinity-Bellwoods (81)   \n",
      "2  ...  Assault With Weapon      Assault       055      Thorncliffe Park (55)   \n",
      "3  ...              Assault      Assault       143           West Rouge (143)   \n",
      "4  ...              Assault      Assault       143           West Rouge (143)   \n",
      "\n",
      "  HOOD_140          NEIGHBOURHOOD_140 LONG_WGS84  LAT_WGS84             x  \\\n",
      "0      120  Clairlea-Birchmount (120) -79.286725  43.700100 -8.826158e+06   \n",
      "1      081     Trinity-Bellwoods (81) -79.410994  43.649686 -8.839991e+06   \n",
      "2      055      Thorncliffe Park (55) -79.346615  43.703234 -8.832825e+06   \n",
      "3      131                Rouge (131) -79.132915  43.780413 -8.809036e+06   \n",
      "4      131                Rouge (131) -79.132915  43.780413 -8.809036e+06   \n",
      "\n",
      "              y  \n",
      "0  5.419149e+06  \n",
      "1  5.411389e+06  \n",
      "2  5.419631e+06  \n",
      "3  5.431523e+06  \n",
      "4  5.431523e+06  \n",
      "\n",
      "[5 rows x 31 columns]\n",
      "Index(['OBJECTID', 'EVENT_UNIQUE_ID', 'REPORT_DATE', 'OCC_DATE', 'REPORT_YEAR',\n",
      "       'REPORT_MONTH', 'REPORT_DAY', 'REPORT_DOY', 'REPORT_DOW', 'REPORT_HOUR',\n",
      "       'OCC_YEAR', 'OCC_MONTH', 'OCC_DAY', 'OCC_DOY', 'OCC_DOW', 'OCC_HOUR',\n",
      "       'DIVISION', 'LOCATION_TYPE', 'PREMISES_TYPE', 'UCR_CODE', 'UCR_EXT',\n",
      "       'OFFENCE', 'MCI_CATEGORY', 'HOOD_158', 'NEIGHBOURHOOD_158', 'HOOD_140',\n",
      "       'NEIGHBOURHOOD_140', 'LONG_WGS84', 'LAT_WGS84', 'x', 'y'],\n",
      "      dtype='object')\n",
      "OBJECTID               int64\n",
      "EVENT_UNIQUE_ID       object\n",
      "REPORT_DATE           object\n",
      "OCC_DATE              object\n",
      "REPORT_YEAR            int64\n",
      "REPORT_MONTH          object\n",
      "REPORT_DAY             int64\n",
      "REPORT_DOY             int64\n",
      "REPORT_DOW            object\n",
      "REPORT_HOUR            int64\n",
      "OCC_YEAR             float64\n",
      "OCC_MONTH             object\n",
      "OCC_DAY              float64\n",
      "OCC_DOY              float64\n",
      "OCC_DOW               object\n",
      "OCC_HOUR               int64\n",
      "DIVISION              object\n",
      "LOCATION_TYPE         object\n",
      "PREMISES_TYPE         object\n",
      "UCR_CODE               int64\n",
      "UCR_EXT                int64\n",
      "OFFENCE               object\n",
      "MCI_CATEGORY          object\n",
      "HOOD_158              object\n",
      "NEIGHBOURHOOD_158     object\n",
      "HOOD_140              object\n",
      "NEIGHBOURHOOD_140     object\n",
      "LONG_WGS84           float64\n",
      "LAT_WGS84            float64\n",
      "x                    float64\n",
      "y                    float64\n",
      "dtype: object\n",
      "(430614, 31)\n"
     ]
    }
   ],
   "source": [
    "import pandas as pd\n",
    "\n",
    "crime_data = pd.read_csv(\"./data/toronto_crime_data.csv\")\n",
    "print(crime_data.head())\n",
    "print(crime_data.columns)\n",
    "print(crime_data.dtypes)\n",
    "print(crime_data.shape)"
   ]
  },
  {
   "cell_type": "code",
   "execution_count": 10,
   "id": "e7004f01",
   "metadata": {},
   "outputs": [],
   "source": [
    "\n",
    "numeric_cols = [\"OCC_YEAR\",\"OCC_DAY\",\"OCC_HOUR\",\"UCR_CODE\",\"LONG_WGS84\",\"LAT_WGS84\"]\n",
    "cat_cols = [\"DIVISION\",\"LOCATION_TYPE\",\"PREMISES_TYPE\",\"OFFENCE\",\"NEIGHBOURHOOD_158\", \"OCC_MONTH\"]"
   ]
  },
  {
   "cell_type": "code",
   "execution_count": 15,
   "id": "5501529a",
   "metadata": {},
   "outputs": [
    {
     "name": "stdout",
     "output_type": "stream",
     "text": [
      "OCC_YEAR      float64\n",
      "OCC_DAY       float64\n",
      "OCC_HOUR        int64\n",
      "UCR_CODE        int64\n",
      "LONG_WGS84    float64\n",
      "LAT_WGS84     float64\n",
      "dtype: object\n",
      "DIVISION             object\n",
      "LOCATION_TYPE        object\n",
      "PREMISES_TYPE        object\n",
      "OFFENCE              object\n",
      "NEIGHBOURHOOD_158    object\n",
      "OCC_MONTH            object\n",
      "dtype: object\n",
      "31\n"
     ]
    }
   ],
   "source": [
    "print(crime_data[numeric_cols].dtypes)\n",
    "print(crime_data[cat_cols].dtypes)\n",
    "print(len(crime_data.columns))"
   ]
  },
  {
   "cell_type": "markdown",
   "id": "f6bd02ec",
   "metadata": {},
   "source": [
    "# Numeric Values Encoding using pipelines"
   ]
  },
  {
   "cell_type": "code",
   "execution_count": 18,
   "id": "2fbb77a4",
   "metadata": {},
   "outputs": [
    {
     "name": "stdout",
     "output_type": "stream",
     "text": [
      "Pipeline(steps=[('imputer', SimpleImputer(strategy='median'))])\n"
     ]
    }
   ],
   "source": [
    "from sklearn.pipeline import Pipeline\n",
    "from sklearn.impute import SimpleImputer\n",
    "from sklearn.compose import ColumnTransformer\n",
    "\n",
    "num_tf = Pipeline([\n",
    "    (\"imputer\", SimpleImputer(strategy=\"median\"))\n",
    "])\n",
    "\n",
    "\n",
    "\n",
    "print(num_tf)"
   ]
  },
  {
   "cell_type": "code",
   "execution_count": 19,
   "id": "545ecdc4",
   "metadata": {},
   "outputs": [
    {
     "name": "stdout",
     "output_type": "stream",
     "text": [
      "ColumnTransformer(transformers=[('num',\n",
      "                                 Pipeline(steps=[('imputer',\n",
      "                                                  SimpleImputer(strategy='median'))]),\n",
      "                                 ['OCC_YEAR', 'OCC_DAY', 'OCC_HOUR', 'UCR_CODE',\n",
      "                                  'LONG_WGS84', 'LAT_WGS84']),\n",
      "                                ('cat',\n",
      "                                 Pipeline(steps=[('imputer',\n",
      "                                                  SimpleImputer(strategy='most_frequent')),\n",
      "                                                 ('onehot',\n",
      "                                                  OneHotEncoder(handle_unknown='ignore'))]),\n",
      "                                 ['DIVISION', 'LOCATION_TYPE', 'PREMISES_TYPE',\n",
      "                                  'OFFENCE', 'NEIGHBOURHOOD_158',\n",
      "                                  'OCC_MONTH'])])\n"
     ]
    }
   ],
   "source": [
    "from sklearn.preprocessing import OneHotEncoder\n",
    "\n",
    "cat_tf = Pipeline(\n",
    "    [\n",
    "        (\"imputer\", SimpleImputer(strategy=\"most_frequent\")),\n",
    "        (\"onehot\", OneHotEncoder(handle_unknown=\"ignore\"))\n",
    "    ]\n",
    ")\n",
    "preproc = ColumnTransformer([\n",
    "    (\"num\", num_tf, numeric_cols),\n",
    "    (\"cat\", cat_tf, cat_cols)\n",
    "])\n",
    "\n",
    "print(preproc)"
   ]
  },
  {
   "cell_type": "code",
   "execution_count": null,
   "id": "224e2bf5",
   "metadata": {},
   "outputs": [],
   "source": []
  }
 ],
 "metadata": {
  "kernelspec": {
   "display_name": ".venv",
   "language": "python",
   "name": "python3"
  },
  "language_info": {
   "codemirror_mode": {
    "name": "ipython",
    "version": 3
   },
   "file_extension": ".py",
   "mimetype": "text/x-python",
   "name": "python",
   "nbconvert_exporter": "python",
   "pygments_lexer": "ipython3",
   "version": "3.9.6"
  }
 },
 "nbformat": 4,
 "nbformat_minor": 5
}
